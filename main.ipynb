{
 "cells": [
  {
   "cell_type": "code",
   "execution_count": 18,
   "metadata": {},
   "outputs": [
    {
     "name": "stdout",
     "output_type": "stream",
     "text": [
      "L: \n",
      "[[ 1.         -0.         -0.        ]\n",
      " [10.95304711  1.         -0.        ]\n",
      " [ 0.24336893 -0.85863308  1.        ]] \n",
      "\n",
      "U: \n",
      "[[ 0.05313663  0.11427759  0.88031903]\n",
      " [ 0.         -1.10745251 -9.37923597]\n",
      " [ 0.          0.         -8.16805463]] \n",
      "\n",
      "Distance:  1.4895204919483639e-15\n"
     ]
    }
   ],
   "source": [
    "import numpy as np\n",
    "\n",
    "A = np.random.rand(3,3)\n",
    "\n",
    "def LU(A):\n",
    "    L = np.zeros(A.shape, float)\n",
    "    U = np.zeros(A.shape, float)\n",
    "    temp = np.copy(A)\n",
    "    for i in range(len(A)): # 0 1 2\n",
    "        L[:, i]   = temp[:, i]/temp[i,i]\n",
    "        U[i, :] = temp[i, :]\n",
    "        temp -= np.dot((L[:, i]).reshape(len(A),1), (U[i, :]).reshape(1, len(A)))\n",
    "    return L, U\n",
    "\n",
    "L, U  = LU(A)\n",
    "\n",
    "print(\"L: \")\n",
    "print(L, '\\n')\n",
    "print(\"U: \")\n",
    "print(U, '\\n')\n",
    "print(\"Distance: \", np.linalg.norm(np.dot(L,U)-A))\n",
    "\n"
   ]
  }
 ],
 "metadata": {
  "kernelspec": {
   "display_name": "Python 3",
   "language": "python",
   "name": "python3"
  },
  "language_info": {
   "codemirror_mode": {
    "name": "ipython",
    "version": 3
   },
   "file_extension": ".py",
   "mimetype": "text/x-python",
   "name": "python",
   "nbconvert_exporter": "python",
   "pygments_lexer": "ipython3",
   "version": "3.10.6"
  }
 },
 "nbformat": 4,
 "nbformat_minor": 2
}
